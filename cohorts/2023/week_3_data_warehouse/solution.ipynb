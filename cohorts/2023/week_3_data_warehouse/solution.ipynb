{
 "cells": [
  {
   "cell_type": "markdown",
   "metadata": {},
   "source": [
    "# Homework solution. Week 3."
   ]
  },
  {
   "cell_type": "code",
   "execution_count": 42,
   "metadata": {},
   "outputs": [],
   "source": [
    "import os\n",
    "\n",
    "import pandas as pd\n",
    "from google.cloud import storage"
   ]
  },
  {
   "attachments": {},
   "cell_type": "markdown",
   "metadata": {},
   "source": [
    "## Setup"
   ]
  },
  {
   "cell_type": "code",
   "execution_count": null,
   "metadata": {},
   "outputs": [],
   "source": [
    "DATA_URL = \"https://github.com/DataTalksClub/nyc-tlc-data/releases/download/fhv\"\n",
    "OUTPUT_DIR = \"./data\"\n",
    "\n",
    "\n",
    "def get_file_uri(year, month):\n",
    "    return os.path.join(DATA_URL, f\"fhv_tripdata_{year}-{month:02}.csv.gz\")\n",
    "\n",
    "\n",
    "def download_file(year, month, output_dir: str = None):\n",
    "    if output_dir is None:\n",
    "        output_dir = OUTPUT_DIR\n",
    "\n",
    "    os.makedirs(output_dir, exist_ok=True)\n",
    "\n",
    "    file_uri = get_file_uri(year, month)\n",
    "    data = pd.read_csv(file_uri)\n",
    "\n",
    "    filename = os.path.join(output_dir, os.path.basename(file_uri))\n",
    "    data.to_csv(filename, index=False)\n",
    "\n",
    "    return filename\n",
    "\n",
    "\n",
    "def upload_to_gcs(bucket, object_name, local_file):\n",
    "    \"\"\"\n",
    "    Ref: https://cloud.google.com/storage/docs/uploading-objects#storage-upload-object-python\n",
    "    \"\"\"\n",
    "    # # WORKAROUND to prevent timeout for files > 6 MB on 800 kbps upload speed.\n",
    "    # # (Ref: https://github.com/googleapis/python-storage/issues/74)\n",
    "    # storage.blob._MAX_MULTIPART_SIZE = 5 * 1024 * 1024  # 5 MB\n",
    "    # storage.blob._DEFAULT_CHUNKSIZE = 5 * 1024 * 1024  # 5 MB\n",
    "\n",
    "    client = storage.Client()\n",
    "    bucket = client.bucket(bucket)\n",
    "    blob = bucket.blob(object_name)\n",
    "    blob.upload_from_filename(local_file)"
   ]
  },
  {
   "attachments": {},
   "cell_type": "markdown",
   "metadata": {},
   "source": [
    "Download trips data from github to local storage"
   ]
  },
  {
   "cell_type": "code",
   "execution_count": 41,
   "metadata": {},
   "outputs": [
    {
     "name": "stdout",
     "output_type": "stream",
     "text": [
      "Loading the data... (month: 1)\n",
      "./data/fhv_tripdata_2019-01.csv.gz\n",
      "Loading the data... (month: 2)\n",
      "./data/fhv_tripdata_2019-02.csv.gz\n",
      "Loading the data... (month: 3)\n",
      "./data/fhv_tripdata_2019-03.csv.gz\n",
      "Loading the data... (month: 4)\n",
      "./data/fhv_tripdata_2019-04.csv.gz\n",
      "Loading the data... (month: 5)\n",
      "./data/fhv_tripdata_2019-05.csv.gz\n",
      "Loading the data... (month: 6)\n",
      "./data/fhv_tripdata_2019-06.csv.gz\n",
      "Loading the data... (month: 7)\n",
      "./data/fhv_tripdata_2019-07.csv.gz\n",
      "Loading the data... (month: 8)\n",
      "./data/fhv_tripdata_2019-08.csv.gz\n",
      "Loading the data... (month: 9)\n",
      "./data/fhv_tripdata_2019-09.csv.gz\n",
      "Loading the data... (month: 10)\n",
      "./data/fhv_tripdata_2019-10.csv.gz\n",
      "Loading the data... (month: 11)\n",
      "./data/fhv_tripdata_2019-11.csv.gz\n",
      "Loading the data... (month: 12)\n",
      "./data/fhv_tripdata_2019-12.csv.gz\n",
      "CPU times: user 6min 5s, sys: 8.37 s, total: 6min 14s\n",
      "Wall time: 7min 44s\n"
     ]
    }
   ],
   "source": [
    "%%time\n",
    "\n",
    "YEAR = 2019\n",
    "\n",
    "for month in range(1, 13):\n",
    "    print(f\"Loading the data... (month: {month})\")\n",
    "    try:\n",
    "        print(download_file(year=YEAR, month=month))\n",
    "    except Exception as e:\n",
    "        print(e)\n",
    "        continue"
   ]
  },
  {
   "attachments": {},
   "cell_type": "markdown",
   "metadata": {},
   "source": [
    "Setting up credentials"
   ]
  },
  {
   "attachments": {},
   "cell_type": "markdown",
   "metadata": {},
   "source": [
    "```\n",
    "export GOOGLE_APPLICATION_CREDENTIALS=\"/Users/a_kulesh/Workspace/education/courses/data-engineering-zoomcamp/_fork/data-engineering-zoomcamp/virtual-dynamo-375412-88efae140216.json\"\n",
    "```\n",
    "\n",
    "Refresh token/session, and verify authentication\n",
    "```\n",
    "gcloud auth application-default login\n",
    "```"
   ]
  },
  {
   "attachments": {},
   "cell_type": "markdown",
   "metadata": {},
   "source": [
    "Upload files to GCS bucket"
   ]
  },
  {
   "cell_type": "code",
   "execution_count": 53,
   "metadata": {},
   "outputs": [
    {
     "name": "stdout",
     "output_type": "stream",
     "text": [
      "File './data/fhv_tripdata_2019-11.csv.gz' uploaded to GCS: 'dtc_data_lake_virtual-dynamo-375412/data/fhv/fhv_tripdata_2019-11.csv.gz'\n",
      "File './data/fhv_tripdata_2019-03.csv.gz' uploaded to GCS: 'dtc_data_lake_virtual-dynamo-375412/data/fhv/fhv_tripdata_2019-03.csv.gz'\n",
      "File './data/fhv_tripdata_2019-01.csv.gz' uploaded to GCS: 'dtc_data_lake_virtual-dynamo-375412/data/fhv/fhv_tripdata_2019-01.csv.gz'\n",
      "File './data/fhv_tripdata_2019-09.csv.gz' uploaded to GCS: 'dtc_data_lake_virtual-dynamo-375412/data/fhv/fhv_tripdata_2019-09.csv.gz'\n",
      "File './data/fhv_tripdata_2019-05.csv.gz' uploaded to GCS: 'dtc_data_lake_virtual-dynamo-375412/data/fhv/fhv_tripdata_2019-05.csv.gz'\n",
      "File './data/fhv_tripdata_2019-07.csv.gz' uploaded to GCS: 'dtc_data_lake_virtual-dynamo-375412/data/fhv/fhv_tripdata_2019-07.csv.gz'\n",
      "File './data/fhv_tripdata_2019-10.csv.gz' uploaded to GCS: 'dtc_data_lake_virtual-dynamo-375412/data/fhv/fhv_tripdata_2019-10.csv.gz'\n",
      "File './data/fhv_tripdata_2019-02.csv.gz' uploaded to GCS: 'dtc_data_lake_virtual-dynamo-375412/data/fhv/fhv_tripdata_2019-02.csv.gz'\n",
      "File './data/fhv_tripdata_2019-12.csv.gz' uploaded to GCS: 'dtc_data_lake_virtual-dynamo-375412/data/fhv/fhv_tripdata_2019-12.csv.gz'\n",
      "File './data/fhv_tripdata_2019-08.csv.gz' uploaded to GCS: 'dtc_data_lake_virtual-dynamo-375412/data/fhv/fhv_tripdata_2019-08.csv.gz'\n",
      "File './data/fhv_tripdata_2019-04.csv.gz' uploaded to GCS: 'dtc_data_lake_virtual-dynamo-375412/data/fhv/fhv_tripdata_2019-04.csv.gz'\n",
      "File './data/fhv_tripdata_2019-06.csv.gz' uploaded to GCS: 'dtc_data_lake_virtual-dynamo-375412/data/fhv/fhv_tripdata_2019-06.csv.gz'\n",
      "CPU times: user 2.75 s, sys: 3.3 s, total: 6.05 s\n",
      "Wall time: 7min 32s\n"
     ]
    }
   ],
   "source": [
    "%%time\n",
    "\n",
    "BUCKET = \"dtc_data_lake_virtual-dynamo-375412\"\n",
    "\n",
    "names = os.listdir(OUTPUT_DIR)\n",
    "for name in names:\n",
    "    object_name = os.path.join(\"data/fhv\", name)\n",
    "    file_name = os.path.join(OUTPUT_DIR, name)\n",
    "\n",
    "    upload_to_gcs(BUCKET, object_name, file_name)\n",
    "    print(f\"File '{file_name}' uploaded to GCS: '{BUCKET}/{object_name}'\")"
   ]
  },
  {
   "attachments": {},
   "cell_type": "markdown",
   "metadata": {},
   "source": [
    "Create a dataset in the same location as the source files and create an external table:\n",
    "```\n",
    "CREATE OR REPLACE EXTERNAL TABLE `virtual-dynamo-375412.nytaxi.external_tripdata`\n",
    "OPTIONS (\n",
    "  format = 'CSV',\n",
    "  compression = 'GZIP',\n",
    "  uris = ['gs://dtc_data_lake_virtual-dynamo-375412/data/fhv/fhv_tripdata_2019*']\n",
    ");\n",
    "```\n",
    "\n",
    "Create a table from the external table:\n",
    "```\n",
    "CREATE OR REPLACE TABLE virtual-dynamo-375412.nytaxi.tripdata_non_partitioned AS\n",
    "SELECT * FROM virtual-dynamo-375412.nytaxi.external_tripdata;\n",
    "```"
   ]
  },
  {
   "cell_type": "markdown",
   "metadata": {},
   "source": [
    "## Question 1:\n",
    "What is the count for fhv vehicle records for year 2019?"
   ]
  },
  {
   "attachments": {},
   "cell_type": "markdown",
   "metadata": {},
   "source": [
    "```\n",
    "SELECT count(*)\n",
    "FROM virtual-dynamo-375412.nytaxi.tripdata_non_partitioned\n",
    "```\n",
    "\n",
    "> 43244696"
   ]
  },
  {
   "attachments": {},
   "cell_type": "markdown",
   "metadata": {},
   "source": [
    "## Question 2:\n",
    "Write a query to count the distinct number of affiliated_base_number for the entire dataset on both the tables.</br> \n",
    "What is the estimated amount of data that will be read when this query is executed on the External Table and the Table?"
   ]
  },
  {
   "attachments": {},
   "cell_type": "markdown",
   "metadata": {},
   "source": [
    "```\n",
    "SELECT count(distinct(Affiliated_base_number))\n",
    "FROM virtual-dynamo-375412.nytaxi.tripdata_non_partitioned;\n",
    "\n",
    "SELECT count(distinct(Affiliated_base_number))\n",
    "FROM virtual-dynamo-375412.nytaxi.external_tripdata;\n",
    "```\n",
    "\n",
    "> - 0 MB for the External Table and 0MB for the BQ Table"
   ]
  },
  {
   "attachments": {},
   "cell_type": "markdown",
   "metadata": {},
   "source": [
    "## Question 3:\n",
    "How many records have both a blank (null) PUlocationID and DOlocationID in the entire dataset?\n",
    "\n",
    "```\n",
    "select count(*)\n",
    "from virtual-dynamo-375412.nytaxi.tripdata_non_partitioned\n",
    "where PUlocationID is null\n",
    "and DOlocationID is null;\n",
    "```\n",
    "\n",
    "> 717748"
   ]
  },
  {
   "attachments": {},
   "cell_type": "markdown",
   "metadata": {},
   "source": [
    "## Question 4:\n",
    "What is the best strategy to optimize the table if query always filter by pickup_datetime and order by affiliated_base_number?\n",
    "\n",
    "> - Partition by pickup_datetime Cluster on affiliated_base_number"
   ]
  },
  {
   "attachments": {},
   "cell_type": "markdown",
   "metadata": {},
   "source": [
    "## Question 5:\n",
    "Implement the optimized solution you chose for question 4. Write a query to retrieve the distinct affiliated_base_number between pickup_datetime 2019/03/01 and 2019/03/31 (inclusive).</br> \n",
    "Use the BQ table you created earlier in your from clause and note the estimated bytes. Now change the table in the from clause to the partitioned table you created for question 4 and note the estimated bytes processed. What are these values? Choose the answer which most closely matches.\n",
    "\n",
    "---\n",
    "Create partitioned and cluster table:\n",
    "```\n",
    "CREATE OR REPLACE TABLE virtual-dynamo-375412.nytaxi.tripdata_partitioned\n",
    "PARTITION BY\n",
    "  DATE(pickup_datetime)\n",
    "CLUSTER BY Affiliated_base_number AS\n",
    "SELECT * FROM virtual-dynamo-375412.nytaxi.external_tripdata;\n",
    "```\n",
    "\n",
    "Run query for both tables:\n",
    "```\n",
    "SELECT count(distinct(Affiliated_base_number))\n",
    "FROM virtual-dynamo-375412.nytaxi.tripdata_non_partitioned\n",
    "where pickup_datetime between '2019-03-01' and '2019-03-31';\n",
    "\n",
    "SELECT count(distinct(Affiliated_base_number))\n",
    "FROM virtual-dynamo-375412.nytaxi.tripdata_partitioned\n",
    "where pickup_datetime between '2019-03-01' and '2019-03-31';\n",
    "```\n",
    "\n",
    "> - 647.87 MB for non-partitioned table and 23.06 MB for the partitioned table"
   ]
  },
  {
   "attachments": {},
   "cell_type": "markdown",
   "metadata": {},
   "source": [
    "## Question 6: \n",
    "Where is the data stored in the External Table you created?\n",
    "\n",
    "> - GCP Bucket"
   ]
  },
  {
   "attachments": {},
   "cell_type": "markdown",
   "metadata": {},
   "source": [
    "## Question 7:\n",
    "It is best practice in Big Query to always cluster your data:\n",
    "> - False"
   ]
  },
  {
   "cell_type": "markdown",
   "metadata": {},
   "source": []
  }
 ],
 "metadata": {
  "kernelspec": {
   "display_name": "zoom_week_2",
   "language": "python",
   "name": "python3"
  },
  "language_info": {
   "codemirror_mode": {
    "name": "ipython",
    "version": 3
   },
   "file_extension": ".py",
   "mimetype": "text/x-python",
   "name": "python",
   "nbconvert_exporter": "python",
   "pygments_lexer": "ipython3",
   "version": "3.9.16"
  },
  "orig_nbformat": 4,
  "vscode": {
   "interpreter": {
    "hash": "adcca963d246f2f9e6af088acaba4f4286bc7ad829faf4741c61865aebf536f4"
   }
  }
 },
 "nbformat": 4,
 "nbformat_minor": 2
}
