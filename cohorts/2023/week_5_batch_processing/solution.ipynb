{
 "cells": [
  {
   "cell_type": "markdown",
   "metadata": {},
   "source": [
    "# Homework solution. Week 5."
   ]
  },
  {
   "attachments": {},
   "cell_type": "markdown",
   "metadata": {},
   "source": [
    "References:\n",
    "- https://github.com/DataTalksClub/data-engineering-zoomcamp/blob/main/week_5_batch_processing/setup/macos.md"
   ]
  },
  {
   "attachments": {},
   "cell_type": "markdown",
   "metadata": {},
   "source": [
    "### Question 1: \n",
    "\n",
    "**Install Spark and PySpark** \n",
    "\n",
    "- Install Spark\n",
    "- Run PySpark\n",
    "- Create a local spark session\n",
    "- Execute spark.version.\n",
    "\n",
    "What's the output?\n",
    "- 3.3.2 (*)\n",
    "- 2.1.4\n",
    "- 1.2.3\n",
    "- 5.4\n",
    "</br></br>"
   ]
  },
  {
   "cell_type": "code",
   "execution_count": 1,
   "metadata": {},
   "outputs": [
    {
     "name": "stdout",
     "output_type": "stream",
     "text": [
      "Welcome to\n",
      "      ____              __\n",
      "     / __/__  ___ _____/ /__\n",
      "    _\\ \\/ _ \\/ _ `/ __/  '_/\n",
      "   /___/ .__/\\_,_/_/ /_/\\_\\   version 3.3.1\n",
      "      /_/\n",
      "                        \n",
      "Using Scala version 2.12.15, OpenJDK 64-Bit Server VM, 19.0.1\n",
      "Branch HEAD\n",
      "Compiled by user yumwang on 2022-10-15T09:47:01Z\n",
      "Revision fbbcf9434ac070dd4ced4fb9efe32899c6db12a9\n",
      "Url https://github.com/apache/spark\n",
      "Type --help for more information.\n"
     ]
    }
   ],
   "source": [
    "!pyspark --version"
   ]
  },
  {
   "attachments": {},
   "cell_type": "markdown",
   "metadata": {},
   "source": [
    "### Question 2: \n",
    "\n",
    "**HVFHW June 2021**\n",
    "\n",
    "Read it with Spark using the same schema as we did in the lessons.</br> \n",
    "We will use this dataset for all the remaining questions.</br>\n",
    "Repartition it to 12 partitions and save it to parquet.</br>\n",
    "What is the average size of the Parquet (ending with .parquet extension) Files that were created (in MB)? Select the answer which most closely matches.</br>\n",
    "\n",
    "\n",
    "- 2MB\n",
    "- 24MB (*)\n",
    "- 100MB\n",
    "- 250MB\n",
    "</br></br>"
   ]
  },
  {
   "cell_type": "code",
   "execution_count": 37,
   "metadata": {},
   "outputs": [],
   "source": [
    "from pyspark.sql import SparkSession, types\n",
    "import pyspark.sql.functions as F\n",
    "\n",
    "\n",
    "spark = SparkSession.builder\\\n",
    "    .master(\"local[*]\")\\\n",
    "    .appName(\"de-zoomcamp\")\\\n",
    "    .getOrCreate()\n",
    "\n",
    "schema = types.StructType([\n",
    "    types.StructField('dispatching_base_num', types.StringType(), True),\n",
    "    types.StructField('pickup_datetime', types.TimestampType(), True),\n",
    "    types.StructField('dropoff_datetime', types.TimestampType(), True),\n",
    "    types.StructField('PULocationID', types.IntegerType(), True),\n",
    "    types.StructField('DOLocationID', types.IntegerType(), True),\n",
    "    types.StructField('SR_Flag', types.StringType(), True),\n",
    "    types.StructField('Affiliated_base_number', types.StringType(), True),\n",
    "])\n",
    "\n",
    "# spark.stop()"
   ]
  },
  {
   "attachments": {},
   "cell_type": "markdown",
   "metadata": {},
   "source": [
    "#### Load data"
   ]
  },
  {
   "cell_type": "code",
   "execution_count": 17,
   "metadata": {},
   "outputs": [],
   "source": [
    "data = spark.read.csv(\"./data/fhvhv_tripdata_2021-06.csv.gz\", header=True, schema=schema)"
   ]
  },
  {
   "cell_type": "code",
   "execution_count": 21,
   "metadata": {},
   "outputs": [
    {
     "name": "stdout",
     "output_type": "stream",
     "text": [
      "root\n",
      " |-- dispatching_base_num: string (nullable = true)\n",
      " |-- pickup_datetime: timestamp (nullable = true)\n",
      " |-- dropoff_datetime: timestamp (nullable = true)\n",
      " |-- PULocationID: integer (nullable = true)\n",
      " |-- DOLocationID: integer (nullable = true)\n",
      " |-- SR_Flag: string (nullable = true)\n",
      " |-- Affiliated_base_number: string (nullable = true)\n",
      "\n"
     ]
    }
   ],
   "source": [
    "data.printSchema()"
   ]
  },
  {
   "cell_type": "code",
   "execution_count": 18,
   "metadata": {},
   "outputs": [
    {
     "name": "stdout",
     "output_type": "stream",
     "text": [
      "+--------------------+-------------------+-------------------+------------+------------+-------+----------------------+\n",
      "|dispatching_base_num|    pickup_datetime|   dropoff_datetime|PULocationID|DOLocationID|SR_Flag|Affiliated_base_number|\n",
      "+--------------------+-------------------+-------------------+------------+------------+-------+----------------------+\n",
      "|              B02764|2021-06-01 00:02:41|2021-06-01 00:07:46|         174|          18|      N|                B02764|\n",
      "|              B02764|2021-06-01 00:16:16|2021-06-01 00:21:14|          32|         254|      N|                B02764|\n",
      "|              B02764|2021-06-01 00:27:01|2021-06-01 00:42:11|         240|         127|      N|                B02764|\n",
      "|              B02764|2021-06-01 00:46:08|2021-06-01 00:53:45|         127|         235|      N|                B02764|\n",
      "|              B02510|2021-06-01 00:45:42|2021-06-01 01:03:33|         144|         146|      N|                  null|\n",
      "+--------------------+-------------------+-------------------+------------+------------+-------+----------------------+\n",
      "only showing top 5 rows\n",
      "\n"
     ]
    }
   ],
   "source": [
    "data.show(5)"
   ]
  },
  {
   "cell_type": "code",
   "execution_count": 30,
   "metadata": {},
   "outputs": [
    {
     "data": {
      "text/plain": [
       "Column<'pickup_datetime'>"
      ]
     },
     "execution_count": 30,
     "metadata": {},
     "output_type": "execute_result"
    }
   ],
   "source": [
    "data.pickup_datetime"
   ]
  },
  {
   "cell_type": "code",
   "execution_count": 23,
   "metadata": {},
   "outputs": [
    {
     "name": "stderr",
     "output_type": "stream",
     "text": [
      "[Stage 7:>                                                          (0 + 1) / 1]\r"
     ]
    },
    {
     "name": "stdout",
     "output_type": "stream",
     "text": [
      "23/03/09 21:38:52 WARN MemoryManager: Total allocation exceeds 95.00% (1,020,054,720 bytes) of heap memory\n",
      "Scaling row group sizes to 95.00% for 8 writers\n"
     ]
    },
    {
     "name": "stderr",
     "output_type": "stream",
     "text": [
      "                                                                                \r"
     ]
    }
   ],
   "source": [
    "data.repartition(12).write.mode(\"overwrite\").parquet(\"./data/data.parquet\")"
   ]
  },
  {
   "cell_type": "code",
   "execution_count": 45,
   "metadata": {},
   "outputs": [
    {
     "name": "stdout",
     "output_type": "stream",
     "text": [
      "\u001b[01;34m./data\u001b[0m\n",
      "├── \u001b[01;34mdata.parquet\u001b[0m\n",
      "│   ├── \u001b[00m_SUCCESS\u001b[0m\n",
      "│   ├── \u001b[00mpart-00000-31e1b084-9eb2-43f8-bc97-b28c7d9b10eb-c000.snappy.parquet\u001b[0m\n",
      "│   ├── \u001b[00mpart-00001-31e1b084-9eb2-43f8-bc97-b28c7d9b10eb-c000.snappy.parquet\u001b[0m\n",
      "│   ├── \u001b[00mpart-00002-31e1b084-9eb2-43f8-bc97-b28c7d9b10eb-c000.snappy.parquet\u001b[0m\n",
      "│   ├── \u001b[00mpart-00003-31e1b084-9eb2-43f8-bc97-b28c7d9b10eb-c000.snappy.parquet\u001b[0m\n",
      "│   ├── \u001b[00mpart-00004-31e1b084-9eb2-43f8-bc97-b28c7d9b10eb-c000.snappy.parquet\u001b[0m\n",
      "│   ├── \u001b[00mpart-00005-31e1b084-9eb2-43f8-bc97-b28c7d9b10eb-c000.snappy.parquet\u001b[0m\n",
      "│   ├── \u001b[00mpart-00006-31e1b084-9eb2-43f8-bc97-b28c7d9b10eb-c000.snappy.parquet\u001b[0m\n",
      "│   ├── \u001b[00mpart-00007-31e1b084-9eb2-43f8-bc97-b28c7d9b10eb-c000.snappy.parquet\u001b[0m\n",
      "│   ├── \u001b[00mpart-00008-31e1b084-9eb2-43f8-bc97-b28c7d9b10eb-c000.snappy.parquet\u001b[0m\n",
      "│   ├── \u001b[00mpart-00009-31e1b084-9eb2-43f8-bc97-b28c7d9b10eb-c000.snappy.parquet\u001b[0m\n",
      "│   ├── \u001b[00mpart-00010-31e1b084-9eb2-43f8-bc97-b28c7d9b10eb-c000.snappy.parquet\u001b[0m\n",
      "│   └── \u001b[00mpart-00011-31e1b084-9eb2-43f8-bc97-b28c7d9b10eb-c000.snappy.parquet\u001b[0m\n",
      "└── \u001b[01;31mfhvhv_tripdata_2021-06.csv.gz\u001b[0m\n",
      "\n",
      "1 directory, 14 files\n"
     ]
    }
   ],
   "source": [
    "!tree ./data"
   ]
  },
  {
   "attachments": {},
   "cell_type": "markdown",
   "metadata": {},
   "source": [
    "Let's check our files size"
   ]
  },
  {
   "cell_type": "code",
   "execution_count": 84,
   "metadata": {},
   "outputs": [
    {
     "name": "stdout",
     "output_type": "stream",
     "text": [
      "  0B\t./data/data.parquet/_SUCCESS\n",
      " 24M\t./data/data.parquet/part-00000-31e1b084-9eb2-43f8-bc97-b28c7d9b10eb-c000.snappy.parquet\n",
      " 24M\t./data/data.parquet/part-00001-31e1b084-9eb2-43f8-bc97-b28c7d9b10eb-c000.snappy.parquet\n",
      " 24M\t./data/data.parquet/part-00002-31e1b084-9eb2-43f8-bc97-b28c7d9b10eb-c000.snappy.parquet\n",
      " 24M\t./data/data.parquet/part-00003-31e1b084-9eb2-43f8-bc97-b28c7d9b10eb-c000.snappy.parquet\n",
      " 24M\t./data/data.parquet/part-00004-31e1b084-9eb2-43f8-bc97-b28c7d9b10eb-c000.snappy.parquet\n",
      " 24M\t./data/data.parquet/part-00005-31e1b084-9eb2-43f8-bc97-b28c7d9b10eb-c000.snappy.parquet\n",
      " 24M\t./data/data.parquet/part-00006-31e1b084-9eb2-43f8-bc97-b28c7d9b10eb-c000.snappy.parquet\n",
      " 24M\t./data/data.parquet/part-00007-31e1b084-9eb2-43f8-bc97-b28c7d9b10eb-c000.snappy.parquet\n",
      " 24M\t./data/data.parquet/part-00008-31e1b084-9eb2-43f8-bc97-b28c7d9b10eb-c000.snappy.parquet\n",
      " 24M\t./data/data.parquet/part-00009-31e1b084-9eb2-43f8-bc97-b28c7d9b10eb-c000.snappy.parquet\n",
      " 24M\t./data/data.parquet/part-00010-31e1b084-9eb2-43f8-bc97-b28c7d9b10eb-c000.snappy.parquet\n",
      " 24M\t./data/data.parquet/part-00011-31e1b084-9eb2-43f8-bc97-b28c7d9b10eb-c000.snappy.parquet\n"
     ]
    }
   ],
   "source": [
    "!du -sh ./data/data.parquet/*"
   ]
  },
  {
   "attachments": {},
   "cell_type": "markdown",
   "metadata": {},
   "source": [
    "### Question 3: \n",
    "\n",
    "**Count records**  \n",
    "\n",
    "How many taxi trips were there on June 15?</br></br>\n",
    "Consider only trips that started on June 15.</br>\n",
    "\n",
    "- 308,164\n",
    "- 12,856\n",
    "- 452,470 (*)\n",
    "- 50,982\n",
    "</br></br>"
   ]
  },
  {
   "cell_type": "code",
   "execution_count": 38,
   "metadata": {},
   "outputs": [
    {
     "name": "stderr",
     "output_type": "stream",
     "text": [
      "[Stage 16:>                                                         (0 + 1) / 1]\r"
     ]
    },
    {
     "name": "stdout",
     "output_type": "stream",
     "text": [
      "+-------------------+-------------------+\n",
      "|           min_date|           max_date|\n",
      "+-------------------+-------------------+\n",
      "|2021-06-01 00:00:00|2021-06-30 23:59:59|\n",
      "+-------------------+-------------------+\n",
      "\n"
     ]
    },
    {
     "name": "stderr",
     "output_type": "stream",
     "text": [
      "                                                                                \r"
     ]
    }
   ],
   "source": [
    "data.select(\n",
    "    F.min(col=data.pickup_datetime).alias(\"min_date\"),\n",
    "    F.max(col=data.pickup_datetime).alias(\"max_date\")).show()"
   ]
  },
  {
   "cell_type": "code",
   "execution_count": 44,
   "metadata": {},
   "outputs": [
    {
     "name": "stderr",
     "output_type": "stream",
     "text": [
      "                                                                                \r"
     ]
    },
    {
     "data": {
      "text/plain": [
       "452470"
      ]
     },
     "execution_count": 44,
     "metadata": {},
     "output_type": "execute_result"
    }
   ],
   "source": [
    "data.filter(F.to_date(data.pickup_datetime) == \"2021-06-15\").count()"
   ]
  },
  {
   "attachments": {},
   "cell_type": "markdown",
   "metadata": {},
   "source": [
    "### Question 4: \n",
    "\n",
    "**Longest trip for each day**  \n",
    "\n",
    "Now calculate the duration for each trip.</br>\n",
    "How long was the longest trip in Hours?</br>\n",
    "\n",
    "- 66.87 Hours (*)\n",
    "- 243.44 Hours\n",
    "- 7.68 Hours\n",
    "- 3.32 Hours\n",
    "</br></br>"
   ]
  },
  {
   "cell_type": "code",
   "execution_count": 67,
   "metadata": {},
   "outputs": [
    {
     "name": "stderr",
     "output_type": "stream",
     "text": [
      "[Stage 44:>                                                         (0 + 1) / 1]\r"
     ]
    },
    {
     "name": "stdout",
     "output_type": "stream",
     "text": [
      "+--------------------+-------------------+-------------------+------------+------------+-------+----------------------+-------------+-------------------+\n",
      "|dispatching_base_num|    pickup_datetime|   dropoff_datetime|PULocationID|DOLocationID|SR_Flag|Affiliated_base_number|trip_distance|trip_distance_hours|\n",
      "+--------------------+-------------------+-------------------+------------+------------+-------+----------------------+-------------+-------------------+\n",
      "|              B02872|2021-06-25 13:55:41|2021-06-28 08:48:25|          98|         265|      N|                B02872|       240764|   66.8788888888889|\n",
      "|              B02765|2021-06-22 12:09:45|2021-06-23 13:42:44|         188|         198|      N|                B02765|        91979| 25.549722222222222|\n",
      "|              B02879|2021-06-27 10:32:29|2021-06-28 06:31:20|          78|         169|      N|                B02879|        71931| 19.980833333333333|\n",
      "|              B02800|2021-06-26 22:37:11|2021-06-27 16:49:01|         263|          36|      N|                  null|        65510| 18.197222222222223|\n",
      "|              B02682|2021-06-23 20:40:43|2021-06-24 13:08:44|           3|         247|      N|                B02682|        59281| 16.466944444444444|\n",
      "+--------------------+-------------------+-------------------+------------+------------+-------+----------------------+-------------+-------------------+\n",
      "only showing top 5 rows\n",
      "\n"
     ]
    },
    {
     "name": "stderr",
     "output_type": "stream",
     "text": [
      "                                                                                \r"
     ]
    }
   ],
   "source": [
    "data.withColumn(\"trip_distance\", (data.dropoff_datetime - data.pickup_datetime).cast(\"long\"))\\\n",
    "    .withColumn(\"trip_distance_hours\", F.col(\"trip_distance\") / 3600)\\\n",
    "    .orderBy(F.col(\"trip_distance_hours\").desc())\\\n",
    "        .show(5)"
   ]
  },
  {
   "attachments": {},
   "cell_type": "markdown",
   "metadata": {},
   "source": [
    "### Question 5: \n",
    "\n",
    "**User Interface**\n",
    "\n",
    " Spark’s User Interface which shows application's dashboard runs on which local port?</br>\n",
    "\n",
    "- 80\n",
    "- 443\n",
    "- 4040 (*)\n",
    "- 8080\n",
    "</br></br>\n",
    "\n",
    "![](./img/spark-app.png)"
   ]
  },
  {
   "attachments": {},
   "cell_type": "markdown",
   "metadata": {},
   "source": [
    "We can double-check if the app is running on the port 4040 in the terminal"
   ]
  },
  {
   "cell_type": "code",
   "execution_count": 9,
   "metadata": {},
   "outputs": [
    {
     "name": "stdout",
     "output_type": "stream",
     "text": [
      "COMMAND   PID     USER   FD   TYPE             DEVICE SIZE/OFF NODE NAME\n",
      "java    48766 a_kulesh  312u  IPv6 0xe4db21caff62f8c9      0t0  TCP *:yo-main (LISTEN)\n"
     ]
    }
   ],
   "source": [
    "!lsof -i :4040"
   ]
  },
  {
   "attachments": {},
   "cell_type": "markdown",
   "metadata": {},
   "source": [
    "### Question 6: \n",
    "\n",
    "**Most frequent pickup location zone**\n",
    "\n",
    "Load the zone lookup data into a temp view in Spark</br>\n",
    "[Zone Data](https://github.com/DataTalksClub/nyc-tlc-data/releases/download/misc/taxi_zone_lookup.csv)</br>\n",
    "\n",
    "Using the zone lookup data and the fhvhv June 2021 data, what is the name of the most frequent pickup location zone?</br>\n",
    "\n",
    "- East Chelsea\n",
    "- Astoria\n",
    "- Union Sq\n",
    "- Crown Heights North (*)\n",
    "</br></br>"
   ]
  },
  {
   "cell_type": "code",
   "execution_count": 72,
   "metadata": {},
   "outputs": [
    {
     "name": "stdout",
     "output_type": "stream",
     "text": [
      "+----------+-------------+--------------------+------------+\n",
      "|LocationID|      Borough|                Zone|service_zone|\n",
      "+----------+-------------+--------------------+------------+\n",
      "|         1|          EWR|      Newark Airport|         EWR|\n",
      "|         2|       Queens|         Jamaica Bay|   Boro Zone|\n",
      "|         3|        Bronx|Allerton/Pelham G...|   Boro Zone|\n",
      "|         4|    Manhattan|       Alphabet City| Yellow Zone|\n",
      "|         5|Staten Island|       Arden Heights|   Boro Zone|\n",
      "+----------+-------------+--------------------+------------+\n",
      "only showing top 5 rows\n",
      "\n"
     ]
    }
   ],
   "source": [
    "taxi_zone_lookup = spark.read.csv(\"./data/taxi_zone_lookup.csv\", header=True, inferSchema=True)\n",
    "taxi_zone_lookup.show(5)"
   ]
  },
  {
   "cell_type": "code",
   "execution_count": 82,
   "metadata": {},
   "outputs": [
    {
     "name": "stderr",
     "output_type": "stream",
     "text": [
      "[Stage 71:>                                                         (0 + 1) / 1]\r"
     ]
    },
    {
     "name": "stdout",
     "output_type": "stream",
     "text": [
      "+-------------------+------+\n",
      "|               Zone| count|\n",
      "+-------------------+------+\n",
      "|Crown Heights North|231279|\n",
      "|       East Village|221244|\n",
      "|        JFK Airport|188867|\n",
      "|     Bushwick South|187929|\n",
      "|      East New York|186780|\n",
      "+-------------------+------+\n",
      "only showing top 5 rows\n",
      "\n"
     ]
    },
    {
     "name": "stderr",
     "output_type": "stream",
     "text": [
      "                                                                                \r"
     ]
    }
   ],
   "source": [
    "data.select(data.PULocationID.alias(\"LocationID\"))\\\n",
    "    .join(taxi_zone_lookup, on=\"LocationID\")\\\n",
    "        .groupBy(F.col(\"Zone\"))\\\n",
    "        .agg(F.count(\"*\").alias(\"count\"))\\\n",
    "            .orderBy(F.col(\"count\").desc()).show(5)"
   ]
  },
  {
   "cell_type": "code",
   "execution_count": null,
   "metadata": {},
   "outputs": [],
   "source": []
  },
  {
   "cell_type": "code",
   "execution_count": null,
   "metadata": {},
   "outputs": [],
   "source": []
  }
 ],
 "metadata": {
  "kernelspec": {
   "display_name": "gait",
   "language": "python",
   "name": "python3"
  },
  "language_info": {
   "codemirror_mode": {
    "name": "ipython",
    "version": 3
   },
   "file_extension": ".py",
   "mimetype": "text/x-python",
   "name": "python",
   "nbconvert_exporter": "python",
   "pygments_lexer": "ipython3",
   "version": "3.9.0"
  },
  "orig_nbformat": 4,
  "vscode": {
   "interpreter": {
    "hash": "b6848bcc0ab32dd7a092a349a0990ad40fa6f6e3bc6010cab25dee629fbf0411"
   }
  }
 },
 "nbformat": 4,
 "nbformat_minor": 2
}
